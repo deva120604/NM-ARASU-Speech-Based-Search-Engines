{
 "cells": [
  {
   "cell_type": "code",
   "execution_count": 1,
   "id": "c4e65f66-4b4e-4bdc-b407-4f8682dfd06f",
   "metadata": {},
   "outputs": [
    {
     "name": "stdout",
     "output_type": "stream",
     "text": [
      "Requirement already satisfied: SpeechRecognition in c:\\users\\devas\\appdata\\local\\programs\\python\\python313\\lib\\site-packages (3.14.3)\n",
      "Requirement already satisfied: typing-extensions in c:\\users\\devas\\appdata\\local\\programs\\python\\python313\\lib\\site-packages (from SpeechRecognition) (4.13.2)\n",
      "Requirement already satisfied: standard-aifc in c:\\users\\devas\\appdata\\local\\programs\\python\\python313\\lib\\site-packages (from SpeechRecognition) (3.13.0)\n",
      "Requirement already satisfied: audioop-lts in c:\\users\\devas\\appdata\\local\\programs\\python\\python313\\lib\\site-packages (from SpeechRecognition) (0.2.1)\n",
      "Requirement already satisfied: standard-chunk in c:\\users\\devas\\appdata\\local\\programs\\python\\python313\\lib\\site-packages (from standard-aifc->SpeechRecognition) (3.13.0)\n",
      "Note: you may need to restart the kernel to use updated packages.\n"
     ]
    }
   ],
   "source": [
    "pip install SpeechRecognition\n"
   ]
  },
  {
   "cell_type": "code",
   "execution_count": 2,
   "id": "0b444f9a-aa8f-4c13-969e-21edfd0fa627",
   "metadata": {},
   "outputs": [
    {
     "name": "stdout",
     "output_type": "stream",
     "text": [
      "Requirement already satisfied: PyAudio in c:\\users\\devas\\appdata\\local\\programs\\python\\python313\\lib\\site-packages (0.2.14)\n",
      "Note: you may need to restart the kernel to use updated packages.\n"
     ]
    }
   ],
   "source": [
    "pip install PyAudio\n"
   ]
  },
  {
   "cell_type": "code",
   "execution_count": 5,
   "id": "b2d81131-48a2-48de-bc1f-94cd748d7dfc",
   "metadata": {},
   "outputs": [
    {
     "name": "stdout",
     "output_type": "stream",
     "text": [
      "Speak your search query...\n",
      "You said: define network security\n"
     ]
    }
   ],
   "source": [
    "import speech_recognition as sr\n",
    "import webbrowser\n",
    "\n",
    "def voice_search():\n",
    "    recognizer = sr.Recognizer()\n",
    "    \n",
    "    with sr.Microphone() as source:\n",
    "        print(\"Speak your search query...\")\n",
    "        recognizer.adjust_for_ambient_noise(source)\n",
    "        audio = recognizer.listen(source)\n",
    "\n",
    "    try:\n",
    "        query = recognizer.recognize_google(audio)\n",
    "        print(\"You said:\", query)\n",
    "        \n",
    "        search_url = f\"https://www.google.com/search?q={query}\"\n",
    "        webbrowser.open(search_url)\n",
    "\n",
    "    except sr.UnknownValueError:\n",
    "        print(\"Sorry, I couldn't understand your speech.\")\n",
    "    except sr.RequestError:\n",
    "        print(\"Could not request results, check your internet connection.\")\n",
    "\n",
    "if __name__ == \"__main__\":\n",
    "    voice_search()\n"
   ]
  },
  {
   "cell_type": "code",
   "execution_count": 6,
   "id": "17181e36-71af-4536-94c9-cd2dc2cc3369",
   "metadata": {},
   "outputs": [
    {
     "name": "stdout",
     "output_type": "stream",
     "text": [
      "Speak your search query...\n",
      "You said: how many colours in rainbow\n"
     ]
    }
   ],
   "source": [
    "import speech_recognition as sr\n",
    "import webbrowser\n",
    "\n",
    "def voice_search():\n",
    "    recognizer = sr.Recognizer()\n",
    "    \n",
    "    with sr.Microphone() as source:\n",
    "        print(\"Speak your search query...\")\n",
    "        recognizer.adjust_for_ambient_noise(source)\n",
    "        audio = recognizer.listen(source)\n",
    "\n",
    "    try:\n",
    "        query = recognizer.recognize_google(audio)\n",
    "        print(\"You said:\", query)\n",
    "        \n",
    "        search_url = f\"https://www.google.com/search?q={query}\"\n",
    "        webbrowser.open(search_url)\n",
    "\n",
    "    except sr.UnknownValueError:\n",
    "        print(\"Sorry, I couldn't understand your speech.\")\n",
    "    except sr.RequestError:\n",
    "        print(\"Could not request results, check your internet connection.\")\n",
    "\n",
    "if __name__ == \"__main__\":\n",
    "    voice_search()\n"
   ]
  },
  {
   "cell_type": "code",
   "execution_count": 7,
   "id": "1fba9fb8-6ee3-4f5c-bf08-f99df9dac942",
   "metadata": {},
   "outputs": [
    {
     "name": "stdout",
     "output_type": "stream",
     "text": [
      "Speak your search query...\n",
      "You said: define AI\n"
     ]
    }
   ],
   "source": [
    "import speech_recognition as sr\n",
    "import webbrowser\n",
    "\n",
    "def voice_search():\n",
    "    recognizer = sr.Recognizer()\n",
    "    \n",
    "    with sr.Microphone() as source:\n",
    "        print(\"Speak your search query...\")\n",
    "        recognizer.adjust_for_ambient_noise(source)\n",
    "        audio = recognizer.listen(source)\n",
    "\n",
    "    try:\n",
    "        query = recognizer.recognize_google(audio)\n",
    "        print(\"You said:\", query)\n",
    "        \n",
    "        search_url = f\"https://www.google.com/search?q={query}\"\n",
    "        webbrowser.open(search_url)\n",
    "\n",
    "    except sr.UnknownValueError:\n",
    "        print(\"Sorry, I couldn't understand your speech.\")\n",
    "    except sr.RequestError:\n",
    "        print(\"Could not request results, check your internet connection.\")\n",
    "\n",
    "if __name__ == \"__main__\":\n",
    "    voice_search()\n"
   ]
  },
  {
   "cell_type": "code",
   "execution_count": 8,
   "id": "96253db4-c51b-463e-b3a7-89f6dba04ce7",
   "metadata": {},
   "outputs": [
    {
     "name": "stdout",
     "output_type": "stream",
     "text": [
      "Speak your search query...\n",
      "You said: what is the capital of India\n"
     ]
    }
   ],
   "source": [
    "import speech_recognition as sr\n",
    "import webbrowser\n",
    "\n",
    "def voice_search():\n",
    "    recognizer = sr.Recognizer()\n",
    "    \n",
    "    with sr.Microphone() as source:\n",
    "        print(\"Speak your search query...\")\n",
    "        recognizer.adjust_for_ambient_noise(source)\n",
    "        audio = recognizer.listen(source)\n",
    "\n",
    "    try:\n",
    "        query = recognizer.recognize_google(audio)\n",
    "        print(\"You said:\", query)\n",
    "        \n",
    "        search_url = f\"https://www.google.com/search?q={query}\"\n",
    "        webbrowser.open(search_url)\n",
    "\n",
    "    except sr.UnknownValueError:\n",
    "        print(\"Sorry, I couldn't understand your speech.\")\n",
    "    except sr.RequestError:\n",
    "        print(\"Could not request results, check your internet connection.\")\n",
    "\n",
    "if __name__ == \"__main__\":\n",
    "    voice_search()\n"
   ]
  },
  {
   "cell_type": "code",
   "execution_count": 9,
   "id": "22007744-921d-4322-a460-00a487bb0e32",
   "metadata": {},
   "outputs": [
    {
     "name": "stdout",
     "output_type": "stream",
     "text": [
      "Speak your search query...\n",
      "You said: planet is known as the red planet\n"
     ]
    }
   ],
   "source": [
    "import speech_recognition as sr\n",
    "import webbrowser\n",
    "\n",
    "def voice_search():\n",
    "    recognizer = sr.Recognizer()\n",
    "    \n",
    "    with sr.Microphone() as source:\n",
    "        print(\"Speak your search query...\")\n",
    "        recognizer.adjust_for_ambient_noise(source)\n",
    "        audio = recognizer.listen(source)\n",
    "\n",
    "    try:\n",
    "        query = recognizer.recognize_google(audio)\n",
    "        print(\"You said:\", query)\n",
    "        \n",
    "        search_url = f\"https://www.google.com/search?q={query}\"\n",
    "        webbrowser.open(search_url)\n",
    "\n",
    "    except sr.UnknownValueError:\n",
    "        print(\"Sorry, I couldn't understand your speech.\")\n",
    "    except sr.RequestError:\n",
    "        print(\"Could not request results, check your internet connection.\")\n",
    "\n",
    "if __name__ == \"__main__\":\n",
    "    voice_search()\n"
   ]
  },
  {
   "cell_type": "code",
   "execution_count": 10,
   "id": "bc8429c4-3f58-42c0-b22e-42eb83bf0c45",
   "metadata": {},
   "outputs": [
    {
     "name": "stdout",
     "output_type": "stream",
     "text": [
      "Speak your search query...\n",
      "You said: wrote the national anthem in India\n"
     ]
    }
   ],
   "source": [
    "import speech_recognition as sr\n",
    "import webbrowser\n",
    "\n",
    "def voice_search():\n",
    "    recognizer = sr.Recognizer()\n",
    "    \n",
    "    with sr.Microphone() as source:\n",
    "        print(\"Speak your search query...\")\n",
    "        recognizer.adjust_for_ambient_noise(source)\n",
    "        audio = recognizer.listen(source)\n",
    "\n",
    "    try:\n",
    "        query = recognizer.recognize_google(audio)\n",
    "        print(\"You said:\", query)\n",
    "        \n",
    "        search_url = f\"https://www.google.com/search?q={query}\"\n",
    "        webbrowser.open(search_url)\n",
    "\n",
    "    except sr.UnknownValueError:\n",
    "        print(\"Sorry, I couldn't understand your speech.\")\n",
    "    except sr.RequestError:\n",
    "        print(\"Could not request results, check your internet connection.\")\n",
    "\n",
    "if __name__ == \"__main__\":\n",
    "    voice_search()\n"
   ]
  },
  {
   "cell_type": "code",
   "execution_count": 11,
   "id": "380ee770-d1df-4ab7-8a58-2f840d68a0a2",
   "metadata": {},
   "outputs": [
    {
     "name": "stdout",
     "output_type": "stream",
     "text": [
      "Speak your search query...\n",
      "You said: what is the largest mammal in the world\n"
     ]
    }
   ],
   "source": [
    "import speech_recognition as sr\n",
    "import webbrowser\n",
    "\n",
    "def voice_search():\n",
    "    recognizer = sr.Recognizer()\n",
    "    \n",
    "    with sr.Microphone() as source:\n",
    "        print(\"Speak your search query...\")\n",
    "        recognizer.adjust_for_ambient_noise(source)\n",
    "        audio = recognizer.listen(source)\n",
    "\n",
    "    try:\n",
    "        query = recognizer.recognize_google(audio)\n",
    "        print(\"You said:\", query)\n",
    "        \n",
    "        search_url = f\"https://www.google.com/search?q={query}\"\n",
    "        webbrowser.open(search_url)\n",
    "\n",
    "    except sr.UnknownValueError:\n",
    "        print(\"Sorry, I couldn't understand your speech.\")\n",
    "    except sr.RequestError:\n",
    "        print(\"Could not request results, check your internet connection.\")\n",
    "\n",
    "if __name__ == \"__main__\":\n",
    "    voice_search()\n"
   ]
  },
  {
   "cell_type": "code",
   "execution_count": 15,
   "id": "ff7c362e-8a4e-461b-8629-e9e34c459a93",
   "metadata": {},
   "outputs": [
    {
     "name": "stdout",
     "output_type": "stream",
     "text": [
      "Speak your search query...\n",
      "You said: what is python\n"
     ]
    }
   ],
   "source": [
    "import speech_recognition as sr\n",
    "import webbrowser\n",
    "\n",
    "def voice_search():\n",
    "    recognizer = sr.Recognizer()\n",
    "    \n",
    "    with sr.Microphone() as source:\n",
    "        print(\"Speak your search query...\")\n",
    "        recognizer.adjust_for_ambient_noise(source)\n",
    "        audio = recognizer.listen(source)\n",
    "\n",
    "    try:\n",
    "        query = recognizer.recognize_google(audio)\n",
    "        print(\"You said:\", query)\n",
    "        \n",
    "        search_url = f\"https://www.google.com/search?q={query}\"\n",
    "        webbrowser.open(search_url)\n",
    "\n",
    "    except sr.UnknownValueError:\n",
    "        print(\"Sorry, I couldn't understand your speech.\")\n",
    "    except sr.RequestError:\n",
    "        print(\"Could not request results, check your internet connection.\")\n",
    "\n",
    "if __name__ == \"__main__\":\n",
    "    voice_search()\n"
   ]
  },
  {
   "cell_type": "code",
   "execution_count": 17,
   "id": "f8f14989-788e-4427-b7d2-0070eb9f2082",
   "metadata": {},
   "outputs": [
    {
     "name": "stdout",
     "output_type": "stream",
     "text": [
      "Speak your search query...\n",
      "You said: speech recognition library used in Python\n"
     ]
    }
   ],
   "source": [
    "import speech_recognition as sr\n",
    "import webbrowser\n",
    "\n",
    "def voice_search():\n",
    "    recognizer = sr.Recognizer()\n",
    "    \n",
    "    with sr.Microphone() as source:\n",
    "        print(\"Speak your search query...\")\n",
    "        recognizer.adjust_for_ambient_noise(source)\n",
    "        audio = recognizer.listen(source)\n",
    "\n",
    "    try:\n",
    "        query = recognizer.recognize_google(audio)\n",
    "        print(\"You said:\", query)\n",
    "        \n",
    "        search_url = f\"https://www.google.com/search?q={query}\"\n",
    "        webbrowser.open(search_url)\n",
    "\n",
    "    except sr.UnknownValueError:\n",
    "        print(\"Sorry, I couldn't understand your speech.\")\n",
    "    except sr.RequestError:\n",
    "        print(\"Could not request results, check your internet connection.\")\n",
    "\n",
    "if __name__ == \"__main__\":\n",
    "    voice_search()\n"
   ]
  },
  {
   "cell_type": "code",
   "execution_count": 23,
   "id": "67983e2d-1ca8-4b47-b39b-43877fbeaf45",
   "metadata": {},
   "outputs": [
    {
     "name": "stdout",
     "output_type": "stream",
     "text": [
      "Speak your search query...\n",
      "You said: tuple\n"
     ]
    }
   ],
   "source": [
    "import speech_recognition as sr\n",
    "import webbrowser\n",
    "\n",
    "def voice_search():\n",
    "    recognizer = sr.Recognizer()\n",
    "    \n",
    "    with sr.Microphone() as source:\n",
    "        print(\"Speak your search query...\")\n",
    "        recognizer.adjust_for_ambient_noise(source)\n",
    "        audio = recognizer.listen(source)\n",
    "\n",
    "    try:\n",
    "        query = recognizer.recognize_google(audio)\n",
    "        print(\"You said:\", query)\n",
    "        \n",
    "        search_url = f\"https://www.google.com/search?q={query}\"\n",
    "        webbrowser.open(search_url)\n",
    "\n",
    "    except sr.UnknownValueError:\n",
    "        print(\"Sorry, I couldn't understand your speech.\")\n",
    "    except sr.RequestError:\n",
    "        print(\"Could not request results, check your internet connection.\")\n",
    "\n",
    "if __name__ == \"__main__\":\n",
    "    voice_search()\n"
   ]
  },
  {
   "cell_type": "code",
   "execution_count": null,
   "id": "c226cf35-cc32-4203-80ec-a2e629c2cf8c",
   "metadata": {},
   "outputs": [],
   "source": []
  }
 ],
 "metadata": {
  "kernelspec": {
   "display_name": "Python 3 (ipykernel)",
   "language": "python",
   "name": "python3"
  },
  "language_info": {
   "codemirror_mode": {
    "name": "ipython",
    "version": 3
   },
   "file_extension": ".py",
   "mimetype": "text/x-python",
   "name": "python",
   "nbconvert_exporter": "python",
   "pygments_lexer": "ipython3",
   "version": "3.13.3"
  }
 },
 "nbformat": 4,
 "nbformat_minor": 5
}
